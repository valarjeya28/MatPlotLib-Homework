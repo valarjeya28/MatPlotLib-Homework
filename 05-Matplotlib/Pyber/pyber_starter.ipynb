{
 "cells": [
  {
   "cell_type": "markdown",
   "metadata": {},
   "source": [
    "                  \n",
    "The Bubble Plot indicates that number of rides and drivers both are more in urban cities as compared to suburban and rural cities. Although average fare is more for suburban and rural cities for few instances.\n",
    "\n",
    "Urban cities have the highest percentage of total fares at 62.7%.Even though rural cities had the highest average fare per city, the rural cities had the smallest segment of  total fares by city pie chart at 6.8%.\n",
    "\n",
    "All three pie charts show that urban cities have a good percentage of total fare, total rides and total drivers.\n",
    "\n",
    "From this analysis, this can be predicted that there are many new opportunities to expand the business in suburban and rural cities, in terms of hiring more drivers to operate in these cities."
   ]
  },
  {
   "cell_type": "code",
   "execution_count": null,
   "metadata": {},
   "outputs": [],
   "source": [
    "%matplotlib inline\n",
    "# Dependencies and Setup\n",
    "import matplotlib.pyplot as plt\n",
    "import pandas as pd\n",
    "import numpy as np\n",
    "\n",
    "\n",
    "# File to Load (Remember to change these)\n",
    "city_data_to_load = \"data/city_data.csv\"\n",
    "ride_data_to_load = \"data/ride_data.csv\"\n",
    "\n",
    "# Read the City and Ride Data\n",
    "city_data_to_load=pd.read_csv(city_data_to_load)\n",
    "ride_data_to_load=pd.read_csv(ride_data_to_load)"
   ]
  },
  {
   "cell_type": "code",
   "execution_count": null,
   "metadata": {},
   "outputs": [],
   "source": [
    "# Combine the data into a single dataset\n",
    "merge_ride=pd.merge(ride_data_to_load,city_data_to_load,on =\"city\", how=\"left\")\n",
    "# Display the data table for preview\n",
    "merge_ride.head()"
   ]
  },
  {
   "cell_type": "markdown",
   "metadata": {},
   "source": [
    "## Bubble Plot of Ride Sharing Data"
   ]
  },
  {
   "cell_type": "code",
   "execution_count": null,
   "metadata": {},
   "outputs": [],
   "source": [
    "# Obtain the x and y coordinates for each of the three city types\n",
    "urban_type = merge_ride[\"type\"] == \"Urban\"\n",
    "type_urban=merge_ride[urban_type].groupby(merge_ride[\"city\"])\n",
    "\n",
    "x_urban=type_urban[\"ride_id\"].count()\n",
    "y_urban=type_urban[\"fare\"].mean()\n",
    "s_urban=type_urban[\"driver_count\"].mean()\n",
    "\n",
    "rural_type = merge_ride[\"type\"] == \"Rural\"\n",
    "type_rural=merge_ride[rural_type].groupby(merge_ride[\"city\"])\n",
    "\n",
    "x_rural=type_rural[\"ride_id\"].count()\n",
    "y_rural=type_rural[\"fare\"].mean()\n",
    "s_rural=type_rural[\"driver_count\"].mean()\n",
    "\n",
    "Suburban_type = merge_ride[\"type\"] == \"Suburban\"\n",
    "type_Suburban=merge_ride[Suburban_type].groupby(merge_ride[\"city\"])\n",
    "\n",
    "x_suburban=type_Suburban[\"ride_id\"].count()\n",
    "y_suburban=type_Suburban[\"fare\"].mean()\n",
    "s_suburban=type_Suburban[\"driver_count\"].mean()\n",
    "\n",
    "# Build the scatter plots for each city types\n",
    "urban_graph=plt.scatter(x_urban, y_urban, marker=\"o\", facecolors=\"coral\", edgecolors=\"black\",label='Urban',\n",
    "            s=s_urban*10, alpha=0.75)\n",
    "rural_graph=plt.scatter(x_rural, y_rural, marker=\"o\", facecolors=\"gold\", edgecolors=\"black\",label='Rural',\n",
    "            s=s_rural*10, alpha=0.75)\n",
    "\n",
    "suburban_graph=plt.scatter(x_suburban, y_suburban, marker=\"o\", facecolors=\"lightskyblue\", edgecolors=\"black\",label='suburban',\n",
    "            s=s_suburban*10, alpha=0.75)\n",
    "\n",
    "\n",
    "# Prints the scatter plot to the screen\n",
    "\n",
    "# Incorporate the other graph properties\n",
    "plt.text(43,35,\"Note: \\nCircle size correlates with driver count per city.\", fontsize = 12)\n",
    "# Create a legend\n",
    "plt.legend()\n",
    "# Incorporate a text label regarding circle size\n",
    "# Give our chart some labels and a tile\n",
    "plt.title(\"Pyber Ride Sharing Data(2016)\")\n",
    "plt.xlabel(\"Total Number of rides (per city)\")\n",
    "plt.ylabel(\"Average Fares(s)\")\n",
    "# Save Figure\n",
    "\n",
    "plt.grid()\n",
    "plt.savefig(\"PyberRideScatter.png\")\n",
    "\n",
    "\n"
   ]
  },
  {
   "cell_type": "markdown",
   "metadata": {},
   "source": [
    "The clear majority of pyber rides and drivers are in the urban cities. However, the urban rides seem to consistently result a lower average fare than rides in suburban or rural cities."
   ]
  },
  {
   "cell_type": "code",
   "execution_count": null,
   "metadata": {},
   "outputs": [],
   "source": [
    "# Show plot\n",
    "plt.show()"
   ]
  },
  {
   "cell_type": "markdown",
   "metadata": {},
   "source": [
    "## Total Fares by City Type"
   ]
  },
  {
   "cell_type": "code",
   "execution_count": null,
   "metadata": {},
   "outputs": [],
   "source": [
    "# Calculate Type Percents\n",
    "\n",
    "city_type_Avg=merge_ride.groupby([\"type\"])\n",
    "fare_city=city_type_Avg[\"fare\"].sum()\n",
    "fare_city\n",
    "\n",
    "labels = [\"Rural\",\"Suburban\",\"Urban\"]\n",
    "explode = (0, 0, 0.1)\n",
    "colors = [\"gold\", \"lightskyblue\", \"lightcoral\"]\n",
    "\n",
    "\n",
    "\n",
    "# Build Pie Chart\n",
    "plt.pie(fare_city, explode=explode, labels=labels, colors=colors, autopct=\"%1.1f%%\", shadow=True, startangle=150)\n",
    "plt.title(\"% of Total Fares by City Type\")\n",
    "\n",
    "\n",
    "\n",
    "# Save Figure\n",
    "plt.savefig(\"PyberRide_TotalFares.png\")"
   ]
  },
  {
   "cell_type": "markdown",
   "metadata": {},
   "source": [
    "The majority of pyber revenue comes from pyber urban , with 62.7%. However, at 30.5%, pyber suburban customers still account for a significant portion of pyber fare revenue, since they have, on average, consistently higher average fares."
   ]
  },
  {
   "cell_type": "code",
   "execution_count": null,
   "metadata": {},
   "outputs": [],
   "source": [
    "# Show Figure\n",
    "plt.show()"
   ]
  },
  {
   "cell_type": "markdown",
   "metadata": {},
   "source": [
    "## Total Rides by City Type"
   ]
  },
  {
   "cell_type": "code",
   "execution_count": null,
   "metadata": {},
   "outputs": [],
   "source": [
    "# Calculate Ride Percents\n",
    "\n",
    "city_ride_Avg=merge_ride.groupby([\"type\"])\n",
    "ride_city=city_ride_Avg[\"ride_id\"].count()\n",
    "ride_city\n",
    "\n",
    "labels = [\"Rural\",\"Suburban\",\"Urban\"]\n",
    "explode = (0, 0, 0.1)\n",
    "colors = [\"gold\", \"lightskyblue\", \"lightcoral\"]\n",
    "\n",
    "\n",
    "\n",
    "# Build Pie Chart\n",
    "plt.pie(ride_city, explode=explode, labels=labels, colors=colors, autopct=\"%1.1f%%\", shadow=True, startangle=150)\n",
    "plt.title(\"% of Total Rides by City Type\")\n",
    "\n",
    "\n",
    "\n",
    "# Save Figure\n",
    "plt.savefig(\"PyberRidePie_Total ride.png\")\n",
    "\n"
   ]
  },
  {
   "cell_type": "markdown",
   "metadata": {},
   "source": [
    "The urban cities have a good percentage of total rides.But suburban have more on rides percent 26.3% compared to rural areas 5.3%."
   ]
  },
  {
   "cell_type": "code",
   "execution_count": null,
   "metadata": {},
   "outputs": [],
   "source": [
    "# Show Figure\n",
    "plt.show()"
   ]
  },
  {
   "cell_type": "markdown",
   "metadata": {},
   "source": [
    "## Total Drivers by City Type"
   ]
  },
  {
   "cell_type": "code",
   "execution_count": null,
   "metadata": {},
   "outputs": [],
   "source": [
    "# Calculate Driver Percents\n",
    "city_driver_Avg=city_data_to_load.groupby([\"type\"]).sum()\n",
    "city_driver_Avg\n",
    "\n",
    "\n",
    "labels = [\"Rural\",\"Suburban\",\"Urban\"]\n",
    "explode = (0, 0, 0.1)\n",
    "colors = [\"gold\", \"lightskyblue\", \"lightcoral\"]\n",
    "\n",
    "\n",
    "\n",
    "# Build Pie Chart\n",
    "plt.pie(city_driver_Avg, explode=explode, labels=labels, colors=colors, autopct=\"%1.1f%%\", shadow=True, startangle=150)\n",
    "plt.title(\"% of Total drivers  by City Type\")\n",
    "\n",
    "\n",
    "\n",
    "# Save Figure\n",
    "plt.savefig(\"PyberRidePie_Total_Driver.png\")\n",
    "\n"
   ]
  },
  {
   "cell_type": "code",
   "execution_count": null,
   "metadata": {},
   "outputs": [],
   "source": [
    "# Show Figure\n",
    "plt.show()"
   ]
  },
  {
   "cell_type": "markdown",
   "metadata": {
    "scrolled": true
   },
   "source": [
    "The vast majority of pyber drivers are located in urban cities. "
   ]
  },
  {
   "cell_type": "code",
   "execution_count": null,
   "metadata": {},
   "outputs": [],
   "source": []
  }
 ],
 "metadata": {
  "anaconda-cloud": {},
  "kernelspec": {
   "display_name": "Python 3",
   "language": "python",
   "name": "python3"
  },
  "language_info": {
   "codemirror_mode": {
    "name": "ipython",
    "version": 3
   },
   "file_extension": ".py",
   "mimetype": "text/x-python",
   "name": "python",
   "nbconvert_exporter": "python",
   "pygments_lexer": "ipython3",
   "version": "3.7.1"
  }
 },
 "nbformat": 4,
 "nbformat_minor": 2
}
